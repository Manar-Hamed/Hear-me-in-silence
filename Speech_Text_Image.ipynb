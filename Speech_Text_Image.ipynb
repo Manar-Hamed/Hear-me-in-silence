{
 "cells": [
  {
   "attachments": {},
   "cell_type": "markdown",
   "metadata": {},
   "source": [
    "### Importing Libraries"
   ]
  },
  {
   "cell_type": "code",
   "execution_count": 1,
   "metadata": {},
   "outputs": [],
   "source": [
    "import os\n",
    "import cv2\n",
    "import random\n",
    "import numpy as np\n",
    "import pandas as pd\n",
    "import tensorflow as tf\n",
    "from tensorflow import keras\n",
    "import matplotlib.pyplot as plt\n",
    "import speech_recognition as sr\n"
   ]
  },
  {
   "cell_type": "code",
   "execution_count": null,
   "metadata": {},
   "outputs": [],
   "source": [
    "# !pip install SpeechRecognition\n",
    "# !pip install PyAudio\n",
    "# !pip install PocketSphinx\n",
    "# !pip install git+https://github.com/openai/whisper.git\n",
    "# !pip install --upgrade --no-deps --force-reinstall git+https://github.com/openai/whisper.git\n",
    "# !pip install ffmpeg"
   ]
  },
  {
   "attachments": {},
   "cell_type": "markdown",
   "metadata": {},
   "source": [
    "### Speech to Text"
   ]
  },
  {
   "cell_type": "code",
   "execution_count": 2,
   "metadata": {},
   "outputs": [],
   "source": [
    "r = sr.Recognizer()"
   ]
  },
  {
   "cell_type": "code",
   "execution_count": 3,
   "metadata": {},
   "outputs": [
    {
     "data": {
      "text/plain": [
       "['Microsoft Sound Mapper - Input',\n",
       " 'Microphone Array (AMD Audio Dev',\n",
       " 'Microsoft Sound Mapper - Output',\n",
       " 'Speaker (Realtek(R) Audio)',\n",
       " 'Primary Sound Capture Driver',\n",
       " 'Microphone Array (AMD Audio Device)',\n",
       " 'Primary Sound Driver',\n",
       " 'Speaker (Realtek(R) Audio)',\n",
       " 'Speaker (Realtek(R) Audio)',\n",
       " 'Microphone Array (AMD Audio Device)',\n",
       " 'Microphone (Realtek HD Audio Mic input)',\n",
       " 'Speakers 1 (Realtek HD Audio output with HAP)',\n",
       " 'Speakers 2 (Realtek HD Audio output with HAP)',\n",
       " 'PC Speaker (Realtek HD Audio output with HAP)',\n",
       " 'Headphones 1 (Realtek HD Audio 2nd output with HAP)',\n",
       " 'Headphones 2 (Realtek HD Audio 2nd output with HAP)',\n",
       " 'PC Speaker (Realtek HD Audio 2nd output with HAP)',\n",
       " 'Microphone Array 1 (AMDAfdInstall Wave Microphone - 0)',\n",
       " 'Microphone Array 2 (AMDAfdInstall Wave Microphone - 0)']"
      ]
     },
     "execution_count": 3,
     "metadata": {},
     "output_type": "execute_result"
    }
   ],
   "source": [
    "sr.Microphone.list_microphone_names()"
   ]
  },
  {
   "cell_type": "code",
   "execution_count": 4,
   "metadata": {},
   "outputs": [],
   "source": [
    "mic = sr.Microphone()"
   ]
  },
  {
   "cell_type": "code",
   "execution_count": 5,
   "metadata": {},
   "outputs": [
    {
     "name": "stdout",
     "output_type": "stream",
     "text": [
      "الرجاء البدأ بالتحدث\n",
      "result2:\n",
      "{   'alternative': [{'confidence': 0.92682546, 'transcript': 'مرحبا'}],\n",
      "    'final': True}\n",
      "مرحبا :لقد قلت\n"
     ]
    }
   ],
   "source": [
    "# Using Google Cloud API\n",
    "with mic as audio_file:\n",
    "    print(\"الرجاء البدأ بالتحدث\")\n",
    "\n",
    "    r.adjust_for_ambient_noise(audio_file)\n",
    "    audio = r.listen(audio_file)\n",
    "\n",
    "    try:\n",
    "        text = r.recognize_google(audio, language='ar-EG')\n",
    "        print(text + \" :لقد قلت\")\n",
    "        \n",
    "    except Exception as e:\n",
    "        print('Error: ' + str(e))\n"
   ]
  },
  {
   "attachments": {},
   "cell_type": "markdown",
   "metadata": {},
   "source": [
    "### Text to Image"
   ]
  },
  {
   "cell_type": "code",
   "execution_count": 6,
   "metadata": {},
   "outputs": [
    {
     "data": {
      "text/plain": [
       "'مرحبا'"
      ]
     },
     "execution_count": 6,
     "metadata": {},
     "output_type": "execute_result"
    }
   ],
   "source": [
    "text"
   ]
  },
  {
   "cell_type": "code",
   "execution_count": 7,
   "metadata": {},
   "outputs": [
    {
     "data": {
      "text/plain": [
       "'مرحبا'"
      ]
     },
     "execution_count": 7,
     "metadata": {},
     "output_type": "execute_result"
    }
   ],
   "source": [
    "# sentence = 'مرحبا! انا اسمي نورا'\n",
    "sentence = text\n",
    "sentence"
   ]
  },
  {
   "cell_type": "code",
   "execution_count": 2,
   "metadata": {},
   "outputs": [],
   "source": [
    "sentence = \"كم عمرك\""
   ]
  },
  {
   "attachments": {},
   "cell_type": "markdown",
   "metadata": {},
   "source": [
    "#### Text Cleaning"
   ]
  },
  {
   "cell_type": "code",
   "execution_count": 3,
   "metadata": {},
   "outputs": [],
   "source": [
    "special_characters = ['@', '!', '؟', '$', '%', '^', '*', '-', '_']"
   ]
  },
  {
   "cell_type": "code",
   "execution_count": 4,
   "metadata": {},
   "outputs": [],
   "source": [
    "# Special Characters Removal\n",
    "for sp in special_characters:\n",
    "    sentence = sentence.replace(sp, '')"
   ]
  },
  {
   "cell_type": "code",
   "execution_count": 5,
   "metadata": {},
   "outputs": [
    {
     "name": "stdout",
     "output_type": "stream",
     "text": [
      "كم عمرك\n"
     ]
    }
   ],
   "source": [
    "print(sentence)"
   ]
  },
  {
   "cell_type": "code",
   "execution_count": 6,
   "metadata": {},
   "outputs": [],
   "source": [
    "words = sentence.split(' ')"
   ]
  },
  {
   "cell_type": "code",
   "execution_count": 7,
   "metadata": {},
   "outputs": [
    {
     "name": "stdout",
     "output_type": "stream",
     "text": [
      "['كم', 'عمرك']\n"
     ]
    }
   ],
   "source": [
    "print(words)"
   ]
  },
  {
   "attachments": {},
   "cell_type": "markdown",
   "metadata": {},
   "source": [
    "#### Loading Needed Data"
   ]
  },
  {
   "cell_type": "code",
   "execution_count": 8,
   "metadata": {},
   "outputs": [],
   "source": [
    "imgdir = 'data\\Arabic\\ArASL_Database_54K_Final\\ArASL_Database_54K_Final'"
   ]
  },
  {
   "cell_type": "code",
   "execution_count": 9,
   "metadata": {},
   "outputs": [],
   "source": [
    "ArSL = [] # Conatins random image for each letter"
   ]
  },
  {
   "cell_type": "code",
   "execution_count": 10,
   "metadata": {},
   "outputs": [],
   "source": [
    "for cla in os.listdir(imgdir):\n",
    "    p = imgdir + '\\\\' + cla\n",
    "    imgName = random.choice(os.listdir(p))\n",
    "    imPath = p + '\\\\' + imgName\n",
    "    image = cv2.imread(imPath)\n",
    "    ArSL.append(image)"
   ]
  },
  {
   "cell_type": "code",
   "execution_count": 13,
   "metadata": {},
   "outputs": [],
   "source": [
    "# Loading the Arabic Guide\n",
    "guide = pd.read_csv('data\\Arabic\\Arabic_Letters_Guide.csv')"
   ]
  },
  {
   "cell_type": "code",
   "execution_count": 14,
   "metadata": {},
   "outputs": [
    {
     "data": {
      "text/html": [
       "<div>\n",
       "<style scoped>\n",
       "    .dataframe tbody tr th:only-of-type {\n",
       "        vertical-align: middle;\n",
       "    }\n",
       "\n",
       "    .dataframe tbody tr th {\n",
       "        vertical-align: top;\n",
       "    }\n",
       "\n",
       "    .dataframe thead th {\n",
       "        text-align: right;\n",
       "    }\n",
       "</style>\n",
       "<table border=\"1\" class=\"dataframe\">\n",
       "  <thead>\n",
       "    <tr style=\"text-align: right;\">\n",
       "      <th></th>\n",
       "      <th>Phonteics</th>\n",
       "      <th>Index</th>\n",
       "      <th>Arabic_Letters</th>\n",
       "    </tr>\n",
       "  </thead>\n",
       "  <tbody>\n",
       "    <tr>\n",
       "      <th>0</th>\n",
       "      <td>ain</td>\n",
       "      <td>0</td>\n",
       "      <td>ع</td>\n",
       "    </tr>\n",
       "    <tr>\n",
       "      <th>1</th>\n",
       "      <td>al</td>\n",
       "      <td>1</td>\n",
       "      <td>ال</td>\n",
       "    </tr>\n",
       "    <tr>\n",
       "      <th>2</th>\n",
       "      <td>aleff</td>\n",
       "      <td>2</td>\n",
       "      <td>ا</td>\n",
       "    </tr>\n",
       "  </tbody>\n",
       "</table>\n",
       "</div>"
      ],
      "text/plain": [
       "  Phonteics  Index Arabic_Letters\n",
       "0       ain      0              ع\n",
       "1        al      1             ال\n",
       "2     aleff      2              ا"
      ]
     },
     "execution_count": 14,
     "metadata": {},
     "output_type": "execute_result"
    }
   ],
   "source": [
    "guide.head(3)"
   ]
  },
  {
   "attachments": {},
   "cell_type": "markdown",
   "metadata": {},
   "source": [
    "#### Encode"
   ]
  },
  {
   "cell_type": "code",
   "execution_count": 31,
   "metadata": {},
   "outputs": [],
   "source": [
    "encoded = []"
   ]
  },
  {
   "cell_type": "code",
   "execution_count": 32,
   "metadata": {},
   "outputs": [
    {
     "name": "stdout",
     "output_type": "stream",
     "text": [
      "13\n",
      "17\n",
      "0\n",
      "17\n",
      "19\n",
      "13\n"
     ]
    }
   ],
   "source": [
    "for word in words:\n",
    "    list_code = []\n",
    "    for letter in word:\n",
    "        code = guide[guide['Arabic_Letters'] == letter]['Index'].values[0]#.iloc[0]\n",
    "        print(code)\n",
    "        list_code.append(code)\n",
    "    encoded.append(list_code)"
   ]
  },
  {
   "cell_type": "code",
   "execution_count": 33,
   "metadata": {},
   "outputs": [
    {
     "data": {
      "text/plain": [
       "[[13, 17], [0, 17, 19, 13]]"
      ]
     },
     "execution_count": 33,
     "metadata": {},
     "output_type": "execute_result"
    }
   ],
   "source": [
    "encoded"
   ]
  },
  {
   "attachments": {},
   "cell_type": "markdown",
   "metadata": {},
   "source": [
    "#### Displaying Relevant Images"
   ]
  },
  {
   "cell_type": "code",
   "execution_count": 18,
   "metadata": {},
   "outputs": [
    {
     "data": {
      "image/png": "[encoded data removed]",
      "text/plain": [
       "<Figure size 2000x2000 with 2 Axes>"
      ]
     },
     "metadata": {},
     "output_type": "display_data"
    },
    {
     "data": {
      "image/png": "[encoded data removed]",
      "text/plain": [
       "<Figure size 2000x2000 with 4 Axes>"
      ]
     },
     "metadata": {},
     "output_type": "display_data"
    }
   ],
   "source": [
    "# Displaying the Images\n",
    "for l1 in encoded:\n",
    "    l1.reverse()\n",
    "    fig, ax = plt.subplots(1, len(l1), figsize=(20, 20))\n",
    "    for i in range(len(l1)):\n",
    "        ax[i].imshow(ArSL[l1[i]], cmap='gray')\n",
    "        ax[i].set_title(guide[guide['Index'] == l1[i]]['Arabic_Letters'].iloc[0])\n"
   ]
  },
  {
   "cell_type": "code",
   "execution_count": 16,
   "metadata": {},
   "outputs": [],
   "source": [
    "from matplotlib.backends.backend_tkagg import FigureCanvasTkAgg, NavigationToolbar2Tk\n",
    "from matplotlib.figure import Figure\n",
    "import customtkinter as ctk\n",
    "import cv2\n",
    "import random\n",
    "# from Modern_GUI_Interface import ArSL\n"
   ]
  },
  {
   "cell_type": "code",
   "execution_count": 41,
   "metadata": {},
   "outputs": [],
   "source": [
    "root = ctk.CTk()\n",
    "root.title(\"Emdeing Images\")\n",
    "\n",
    "fig = Figure(figsize=(20,20))\n",
    "\n",
    "for l1 in encoded:\n",
    "    l1.reverse()\n",
    "    ax = fig.subplots(1, len(l1))\n",
    "    # fig, ax = plt.subplots(1, len(l1), figsize=(20, 20))\n",
    "    for i in range(len(l1)):\n",
    "        # ax = fig.add_subplot(111)\n",
    "        ax[i].imshow(ArSL[l1[i]], cmap='gray')\n",
    "        ax[i].set_title(guide[guide['Index'] == l1[i]]['Arabic_Letters'].iloc[0])\n",
    "        # ax[i].imshow(ArSL[l1[i]], cmap='gray')\n",
    "        # ax[i].set_title(guide[guide['Index'] == l1[i]]['Arabic_Letters'].iloc[0])\n",
    "\n",
    "\n",
    "canvas = FigureCanvasTkAgg(fig, master=root)\n",
    "canvas.draw()\n",
    "\n",
    "canvas.get_tk_widget().pack(side=ctk.TOP, fill=ctk.BOTH, expand=True)\n",
    "\n",
    "root.mainloop()"
   ]
  },
  {
   "cell_type": "code",
   "execution_count": null,
   "metadata": {},
   "outputs": [],
   "source": []
  }
 ],
 "metadata": {
  "kernelspec": {
   "display_name": "Python 3",
   "language": "python",
   "name": "python3"
  },
  "language_info": {
   "codemirror_mode": {
    "name": "ipython",
    "version": 3
   },
   "file_extension": ".py",
   "mimetype": "text/x-python",
   "name": "python",
   "nbconvert_exporter": "python",
   "pygments_lexer": "ipython3",
   "version": "3.10.10"
  },
  "orig_nbformat": 4,
  "vscode": {
   "interpreter": {
    "hash": "fb4569285eef3a3450cb62085a5b1e0da4bce0af555edc33dcf29baf3acc1368"
   }
  }
 },
 "nbformat": 4,
 "nbformat_minor": 2
}
